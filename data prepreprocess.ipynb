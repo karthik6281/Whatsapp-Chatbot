{
 "cells": [
  {
   "cell_type": "code",
   "execution_count": 1,
   "id": "8d6ece92",
   "metadata": {},
   "outputs": [],
   "source": [
    "import numpy as np\n",
    "import pandas as pd"
   ]
  },
  {
   "cell_type": "code",
   "execution_count": 2,
   "id": "b8fb9c4e",
   "metadata": {},
   "outputs": [
    {
     "name": "stderr",
     "output_type": "stream",
     "text": [
      "/tmp/ipykernel_14087/1604466880.py:2: FutureWarning: The error_bad_lines argument has been deprecated and will be removed in a future version. Use on_bad_lines in the future.\n",
      "\n",
      "\n",
      "  df=pd.read_csv(filename,header=None,error_bad_lines=False,encoding='utf8')\n",
      "b'Skipping line 291: expected 4 fields, saw 6\\nSkipping line 632: expected 4 fields, saw 5\\nSkipping line 635: expected 4 fields, saw 5\\n'\n"
     ]
    }
   ],
   "source": [
    "filename=\"dataset4.txt\"\n",
    "df=pd.read_csv(filename,header=None,error_bad_lines=False,encoding='utf8')"
   ]
  },
  {
   "cell_type": "code",
   "execution_count": 3,
   "id": "9ff8c3d9",
   "metadata": {},
   "outputs": [],
   "source": [
    "df = df[1:]\n",
    "df = df.drop(columns = [2,3])\n",
    "message = df.drop(columns = [0])"
   ]
  },
  {
   "cell_type": "code",
   "execution_count": 4,
   "id": "f1b16bb7",
   "metadata": {},
   "outputs": [
    {
     "data": {
      "text/html": [
       "<div>\n",
       "<style scoped>\n",
       "    .dataframe tbody tr th:only-of-type {\n",
       "        vertical-align: middle;\n",
       "    }\n",
       "\n",
       "    .dataframe tbody tr th {\n",
       "        vertical-align: top;\n",
       "    }\n",
       "\n",
       "    .dataframe thead th {\n",
       "        text-align: right;\n",
       "    }\n",
       "</style>\n",
       "<table border=\"1\" class=\"dataframe\">\n",
       "  <thead>\n",
       "    <tr style=\"text-align: right;\">\n",
       "      <th></th>\n",
       "      <th>Date</th>\n",
       "      <th>Time</th>\n",
       "      <th>content</th>\n",
       "    </tr>\n",
       "  </thead>\n",
       "  <tbody>\n",
       "    <tr>\n",
       "      <th>1</th>\n",
       "      <td>‎[17/05/22</td>\n",
       "      <td>11:03:24 AM] M Charan: ‎image omitted</td>\n",
       "      <td>None</td>\n",
       "    </tr>\n",
       "    <tr>\n",
       "      <th>2</th>\n",
       "      <td>‎[17/05/22</td>\n",
       "      <td>11:03:25 AM] M Charan: ‎image omitted</td>\n",
       "      <td>None</td>\n",
       "    </tr>\n",
       "    <tr>\n",
       "      <th>3</th>\n",
       "      <td>‎[17/05/22</td>\n",
       "      <td>11:03:25 AM] M Charan: ‎image omitted</td>\n",
       "      <td>None</td>\n",
       "    </tr>\n",
       "    <tr>\n",
       "      <th>4</th>\n",
       "      <td>‎[17/05/22</td>\n",
       "      <td>11:03:26 AM] M Charan: ‎image omitted</td>\n",
       "      <td>None</td>\n",
       "    </tr>\n",
       "    <tr>\n",
       "      <th>5</th>\n",
       "      <td>‎[21/05/22</td>\n",
       "      <td>10:29:34 PM] M Charan: ‎image omitted</td>\n",
       "      <td>None</td>\n",
       "    </tr>\n",
       "    <tr>\n",
       "      <th>...</th>\n",
       "      <td>...</td>\n",
       "      <td>...</td>\n",
       "      <td>...</td>\n",
       "    </tr>\n",
       "    <tr>\n",
       "      <th>1080</th>\n",
       "      <td>[12/05/23</td>\n",
       "      <td>3:04:33 PM] Himanshu Kumar Gupta: Fill the form</td>\n",
       "      <td>None</td>\n",
       "    </tr>\n",
       "    <tr>\n",
       "      <th>1081</th>\n",
       "      <td>[12/05/23</td>\n",
       "      <td>3:05:08 PM] M Charan: Personal mail or offici...</td>\n",
       "      <td>None</td>\n",
       "    </tr>\n",
       "    <tr>\n",
       "      <th>1082</th>\n",
       "      <td>[12/05/23</td>\n",
       "      <td>3:05:34 PM] Himanshu Kumar Gupta: Anything is...</td>\n",
       "      <td>None</td>\n",
       "    </tr>\n",
       "    <tr>\n",
       "      <th>1083</th>\n",
       "      <td>[14/05/23</td>\n",
       "      <td>9:48:20 AM] Himanshu Kumar Gupta: how to see ...</td>\n",
       "      <td>None</td>\n",
       "    </tr>\n",
       "    <tr>\n",
       "      <th>1084</th>\n",
       "      <td>[14/05/23</td>\n",
       "      <td>12:02:56 PM] Himanshu Kumar Gupta: And also a...</td>\n",
       "      <td>None</td>\n",
       "    </tr>\n",
       "  </tbody>\n",
       "</table>\n",
       "<p>1084 rows × 3 columns</p>\n",
       "</div>"
      ],
      "text/plain": [
       "            Date                                               Time content\n",
       "1     ‎[17/05/22              11:03:24 AM] M Charan: ‎image omitted    None\n",
       "2     ‎[17/05/22              11:03:25 AM] M Charan: ‎image omitted    None\n",
       "3     ‎[17/05/22              11:03:25 AM] M Charan: ‎image omitted    None\n",
       "4     ‎[17/05/22              11:03:26 AM] M Charan: ‎image omitted    None\n",
       "5     ‎[21/05/22              10:29:34 PM] M Charan: ‎image omitted    None\n",
       "...          ...                                                ...     ...\n",
       "1080   [12/05/23    3:04:33 PM] Himanshu Kumar Gupta: Fill the form    None\n",
       "1081   [12/05/23   3:05:08 PM] M Charan: Personal mail or offici...    None\n",
       "1082   [12/05/23   3:05:34 PM] Himanshu Kumar Gupta: Anything is...    None\n",
       "1083   [14/05/23   9:48:20 AM] Himanshu Kumar Gupta: how to see ...    None\n",
       "1084   [14/05/23   12:02:56 PM] Himanshu Kumar Gupta: And also a...    None\n",
       "\n",
       "[1084 rows x 3 columns]"
      ]
     },
     "execution_count": 4,
     "metadata": {},
     "output_type": "execute_result"
    }
   ],
   "source": [
    "message[['time', 'chat']] = message[1].str.split('-', n=1, expand=True)\n",
    "message = message.drop(columns = [1])\n",
    "df.columns=['Date', 'Chat']\n",
    "df['Time']=message['time']\n",
    "df['content']=message['chat']\n",
    "df = df.drop(columns = ['Chat'])\n",
    "df['content']=df['content'].str.lower()\n",
    "df"
   ]
  },
  {
   "cell_type": "code",
   "execution_count": 7,
   "id": "3c1f3208",
   "metadata": {},
   "outputs": [
    {
     "name": "stderr",
     "output_type": "stream",
     "text": [
      "/tmp/ipykernel_14087/4202675451.py:1: SettingWithCopyWarning: \n",
      "A value is trying to be set on a copy of a slice from a DataFrame.\n",
      "Try using .loc[row_indexer,col_indexer] = value instead\n",
      "\n",
      "See the caveats in the documentation: https://pandas.pydata.org/pandas-docs/stable/user_guide/indexing.html#returning-a-view-versus-a-copy\n",
      "  df['content'] = df['content'].str.replace('<media omitted>','')\n",
      "/tmp/ipykernel_14087/4202675451.py:2: SettingWithCopyWarning: \n",
      "A value is trying to be set on a copy of a slice from a DataFrame.\n",
      "Try using .loc[row_indexer,col_indexer] = value instead\n",
      "\n",
      "See the caveats in the documentation: https://pandas.pydata.org/pandas-docs/stable/user_guide/indexing.html#returning-a-view-versus-a-copy\n",
      "  df['content'] = df['content'].str.replace('this message was deleted','')\n",
      "/tmp/ipykernel_14087/4202675451.py:3: SettingWithCopyWarning: \n",
      "A value is trying to be set on a copy of a slice from a DataFrame.\n",
      "Try using .loc[row_indexer,col_indexer] = value instead\n",
      "\n",
      "See the caveats in the documentation: https://pandas.pydata.org/pandas-docs/stable/user_guide/indexing.html#returning-a-view-versus-a-copy\n",
      "  df['content_len'] = df['content'].str.len()\n"
     ]
    },
    {
     "data": {
      "text/plain": [
       "(28, 4)"
      ]
     },
     "execution_count": 7,
     "metadata": {},
     "output_type": "execute_result"
    }
   ],
   "source": [
    "df['content'] = df['content'].str.replace('<media omitted>','')\n",
    "df['content'] = df['content'].str.replace('this message was deleted','')\n",
    "df['content_len'] = df['content'].str.len()\n",
    "df = df[df['content_len'] > 0]\n",
    "df.shape"
   ]
  },
  {
   "cell_type": "code",
   "execution_count": 6,
   "id": "8e1f073c",
   "metadata": {},
   "outputs": [
    {
     "ename": "ValueError",
     "evalue": "Columns must be same length as key",
     "output_type": "error",
     "traceback": [
      "\u001b[0;31m---------------------------------------------------------------------------\u001b[0m",
      "\u001b[0;31mValueError\u001b[0m                                Traceback (most recent call last)",
      "Cell \u001b[0;32mIn[6], line 1\u001b[0m\n\u001b[0;32m----> 1\u001b[0m \u001b[43mdf\u001b[49m\u001b[43m[\u001b[49m\u001b[43m[\u001b[49m\u001b[38;5;124;43m'\u001b[39;49m\u001b[38;5;124;43mauthor\u001b[39;49m\u001b[38;5;124;43m'\u001b[39;49m\u001b[43m,\u001b[49m\u001b[43m \u001b[49m\u001b[38;5;124;43m'\u001b[39;49m\u001b[38;5;124;43mmessage\u001b[39;49m\u001b[38;5;124;43m'\u001b[39;49m\u001b[43m]\u001b[49m\u001b[43m]\u001b[49m \u001b[38;5;241m=\u001b[39m df[\u001b[38;5;124m'\u001b[39m\u001b[38;5;124mcontent\u001b[39m\u001b[38;5;124m'\u001b[39m]\u001b[38;5;241m.\u001b[39mstr\u001b[38;5;241m.\u001b[39msplit(\u001b[38;5;124m'\u001b[39m\u001b[38;5;124m:\u001b[39m\u001b[38;5;124m'\u001b[39m, n\u001b[38;5;241m=\u001b[39m\u001b[38;5;241m1\u001b[39m, expand\u001b[38;5;241m=\u001b[39m\u001b[38;5;28;01mTrue\u001b[39;00m)\n\u001b[1;32m      2\u001b[0m df \u001b[38;5;241m=\u001b[39m df\u001b[38;5;241m.\u001b[39mdrop(columns \u001b[38;5;241m=\u001b[39m [\u001b[38;5;124m'\u001b[39m\u001b[38;5;124mcontent\u001b[39m\u001b[38;5;124m'\u001b[39m])\n",
      "File \u001b[0;32m~/.local/lib/python3.10/site-packages/pandas/core/frame.py:3643\u001b[0m, in \u001b[0;36mDataFrame.__setitem__\u001b[0;34m(self, key, value)\u001b[0m\n\u001b[1;32m   3641\u001b[0m     \u001b[38;5;28mself\u001b[39m\u001b[38;5;241m.\u001b[39m_setitem_frame(key, value)\n\u001b[1;32m   3642\u001b[0m \u001b[38;5;28;01melif\u001b[39;00m \u001b[38;5;28misinstance\u001b[39m(key, (Series, np\u001b[38;5;241m.\u001b[39mndarray, \u001b[38;5;28mlist\u001b[39m, Index)):\n\u001b[0;32m-> 3643\u001b[0m     \u001b[38;5;28;43mself\u001b[39;49m\u001b[38;5;241;43m.\u001b[39;49m\u001b[43m_setitem_array\u001b[49m\u001b[43m(\u001b[49m\u001b[43mkey\u001b[49m\u001b[43m,\u001b[49m\u001b[43m \u001b[49m\u001b[43mvalue\u001b[49m\u001b[43m)\u001b[49m\n\u001b[1;32m   3644\u001b[0m \u001b[38;5;28;01melif\u001b[39;00m \u001b[38;5;28misinstance\u001b[39m(value, DataFrame):\n\u001b[1;32m   3645\u001b[0m     \u001b[38;5;28mself\u001b[39m\u001b[38;5;241m.\u001b[39m_set_item_frame_value(key, value)\n",
      "File \u001b[0;32m~/.local/lib/python3.10/site-packages/pandas/core/frame.py:3685\u001b[0m, in \u001b[0;36mDataFrame._setitem_array\u001b[0;34m(self, key, value)\u001b[0m\n\u001b[1;32m   3680\u001b[0m \u001b[38;5;28;01melse\u001b[39;00m:\n\u001b[1;32m   3681\u001b[0m     \u001b[38;5;66;03m# Note: unlike self.iloc[:, indexer] = value, this will\u001b[39;00m\n\u001b[1;32m   3682\u001b[0m     \u001b[38;5;66;03m#  never try to overwrite values inplace\u001b[39;00m\n\u001b[1;32m   3684\u001b[0m     \u001b[38;5;28;01mif\u001b[39;00m \u001b[38;5;28misinstance\u001b[39m(value, DataFrame):\n\u001b[0;32m-> 3685\u001b[0m         \u001b[43mcheck_key_length\u001b[49m\u001b[43m(\u001b[49m\u001b[38;5;28;43mself\u001b[39;49m\u001b[38;5;241;43m.\u001b[39;49m\u001b[43mcolumns\u001b[49m\u001b[43m,\u001b[49m\u001b[43m \u001b[49m\u001b[43mkey\u001b[49m\u001b[43m,\u001b[49m\u001b[43m \u001b[49m\u001b[43mvalue\u001b[49m\u001b[43m)\u001b[49m\n\u001b[1;32m   3686\u001b[0m         \u001b[38;5;28;01mfor\u001b[39;00m k1, k2 \u001b[38;5;129;01min\u001b[39;00m \u001b[38;5;28mzip\u001b[39m(key, value\u001b[38;5;241m.\u001b[39mcolumns):\n\u001b[1;32m   3687\u001b[0m             \u001b[38;5;28mself\u001b[39m[k1] \u001b[38;5;241m=\u001b[39m value[k2]\n",
      "File \u001b[0;32m~/.local/lib/python3.10/site-packages/pandas/core/indexers/utils.py:428\u001b[0m, in \u001b[0;36mcheck_key_length\u001b[0;34m(columns, key, value)\u001b[0m\n\u001b[1;32m    426\u001b[0m \u001b[38;5;28;01mif\u001b[39;00m columns\u001b[38;5;241m.\u001b[39mis_unique:\n\u001b[1;32m    427\u001b[0m     \u001b[38;5;28;01mif\u001b[39;00m \u001b[38;5;28mlen\u001b[39m(value\u001b[38;5;241m.\u001b[39mcolumns) \u001b[38;5;241m!=\u001b[39m \u001b[38;5;28mlen\u001b[39m(key):\n\u001b[0;32m--> 428\u001b[0m         \u001b[38;5;28;01mraise\u001b[39;00m \u001b[38;5;167;01mValueError\u001b[39;00m(\u001b[38;5;124m\"\u001b[39m\u001b[38;5;124mColumns must be same length as key\u001b[39m\u001b[38;5;124m\"\u001b[39m)\n\u001b[1;32m    429\u001b[0m \u001b[38;5;28;01melse\u001b[39;00m:\n\u001b[1;32m    430\u001b[0m     \u001b[38;5;66;03m# Missing keys in columns are represented as -1\u001b[39;00m\n\u001b[1;32m    431\u001b[0m     \u001b[38;5;28;01mif\u001b[39;00m \u001b[38;5;28mlen\u001b[39m(columns\u001b[38;5;241m.\u001b[39mget_indexer_non_unique(key)[\u001b[38;5;241m0\u001b[39m]) \u001b[38;5;241m!=\u001b[39m \u001b[38;5;28mlen\u001b[39m(value\u001b[38;5;241m.\u001b[39mcolumns):\n",
      "\u001b[0;31mValueError\u001b[0m: Columns must be same length as key"
     ]
    }
   ],
   "source": [
    "df[['author', 'message']] = df['content'].str.split(':', n=1, expand=True)\n",
    "df = df.drop(columns = ['content'])"
   ]
  },
  {
   "cell_type": "code",
   "execution_count": null,
   "id": "ddc05551",
   "metadata": {},
   "outputs": [],
   "source": [
    "df['replying_to_author'] = df['author'].shift(1)\n",
    "df['replying_to'] = df['message'].shift(1)\n",
    "df = df.dropna()\n",
    "df"
   ]
  },
  {
   "cell_type": "code",
   "execution_count": null,
   "id": "d1b7c85b",
   "metadata": {},
   "outputs": [],
   "source": [
    "df['is_reply'] = df['replying_to_author'] != df['author']\n",
    "df = df[df['is_reply'] == 1]\n",
    "df.head(5)"
   ]
  },
  {
   "cell_type": "code",
   "execution_count": null,
   "id": "bb5a6ef3",
   "metadata": {},
   "outputs": [],
   "source": [
    "df['author'] == ' pradeep'"
   ]
  },
  {
   "cell_type": "code",
   "execution_count": null,
   "id": "a350df5b",
   "metadata": {},
   "outputs": [],
   "source": [
    "df_a = df[df['author'] == ' pradeep'][['message','replying_to']]\n",
    "df_a.columns = ['completion', 'prompt']\n",
    "df_a.to_csv('data_pradeep2.csv', index=False)\n",
    "\n",
    "data_a = list(df_a.to_dict(orient='index').values())\n",
    "data_a"
   ]
  },
  {
   "cell_type": "code",
   "execution_count": null,
   "id": "0855ce12",
   "metadata": {},
   "outputs": [],
   "source": [
    "df_b = df[df['author'] == ' himanshu kumar gupta ai iith pf'][['message','replying_to']]\n",
    "df_b.columns = ['completion', 'prompt']\n",
    "df_b.to_csv('data_himanshu2.csv', index=False)\n",
    "data_b = list(df_b.to_dict(orient='index').values())\n",
    "data_b"
   ]
  },
  {
   "cell_type": "code",
   "execution_count": null,
   "id": "0fcd88a5",
   "metadata": {},
   "outputs": [],
   "source": [
    "with open('data_pradeep2.jsonl', 'w') as f:\n",
    "    for item in data_a:\n",
    "        f.write(\"%s\\n\" % item)"
   ]
  },
  {
   "cell_type": "code",
   "execution_count": null,
   "id": "5b0c28de",
   "metadata": {},
   "outputs": [],
   "source": [
    "with open('data_himanshu2.jsonl', 'w') as f:\n",
    "    for item in data_b:\n",
    "        f.write(\"%s\\n\" % item)"
   ]
  },
  {
   "cell_type": "code",
   "execution_count": null,
   "id": "1f68abd6",
   "metadata": {},
   "outputs": [],
   "source": []
  }
 ],
 "metadata": {
  "kernelspec": {
   "display_name": "Python 3 (ipykernel)",
   "language": "python",
   "name": "python3"
  },
  "language_info": {
   "codemirror_mode": {
    "name": "ipython",
    "version": 3
   },
   "file_extension": ".py",
   "mimetype": "text/x-python",
   "name": "python",
   "nbconvert_exporter": "python",
   "pygments_lexer": "ipython3",
   "version": "3.10.6"
  }
 },
 "nbformat": 4,
 "nbformat_minor": 5
}
